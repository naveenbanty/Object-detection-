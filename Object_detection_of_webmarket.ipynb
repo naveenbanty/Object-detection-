{
  "nbformat": 4,
  "nbformat_minor": 0,
  "metadata": {
    "colab": {
      "name": "Object detection of webmarket.ipynb",
      "provenance": [],
      "collapsed_sections": [],
      "include_colab_link": true
    },
    "kernelspec": {
      "name": "python3",
      "display_name": "Python 3"
    },
    "language_info": {
      "name": "python"
    },
    "accelerator": "GPU"
  },
  "cells": [
    {
      "cell_type": "markdown",
      "metadata": {
        "id": "view-in-github",
        "colab_type": "text"
      },
      "source": [
        "<a href=\"https://colab.research.google.com/github/naveenbanty/Object-detection-/blob/main/Object_detection_of_webmarket.ipynb\" target=\"_parent\"><img src=\"https://colab.research.google.com/assets/colab-badge.svg\" alt=\"Open In Colab\"/></a>"
      ]
    },
    {
      "cell_type": "code",
      "metadata": {
        "id": "A7XIepCL2QxU"
      },
      "source": [
        "##Downloading and preprocessing on Dataset"
      ],
      "execution_count": 1,
      "outputs": []
    },
    {
      "cell_type": "code",
      "metadata": {
        "id": "Kzlm02rx2kYh"
      },
      "source": [
        "import requests\n",
        "from tqdm import tqdm\n",
        "BASE_URL = 'http://yuhang.rsise.anu.edu.au/download/'"
      ],
      "execution_count": 2,
      "outputs": []
    },
    {
      "cell_type": "code",
      "metadata": {
        "id": "FYW-ZlYh2pXl"
      },
      "source": [
        "list_links = []\n",
        "for p in range(1, 11):\n",
        "  list_links.append(f'db{p}.zip')"
      ],
      "execution_count": 3,
      "outputs": []
    },
    {
      "cell_type": "code",
      "metadata": {
        "colab": {
          "base_uri": "https://localhost:8080/"
        },
        "id": "9zS8ws1f2s49",
        "outputId": "95f899d8-3d01-48df-9654-f4e9aec53ac2"
      },
      "source": [
        "for link in list_links:\n",
        "  url = BASE_URL + link\n",
        "  !wget {url}"
      ],
      "execution_count": null,
      "outputs": [
        {
          "output_type": "stream",
          "text": [
            "--2021-04-23 02:07:05--  http://yuhang.rsise.anu.edu.au/download/db1.zip\n",
            "Resolving yuhang.rsise.anu.edu.au (yuhang.rsise.anu.edu.au)... 150.203.208.64\n",
            "Connecting to yuhang.rsise.anu.edu.au (yuhang.rsise.anu.edu.au)|150.203.208.64|:80... connected.\n",
            "HTTP request sent, awaiting response... 200 OK\n",
            "Length: 192894514 (184M) [application/zip]\n",
            "Saving to: ‘db1.zip’\n",
            "\n",
            "db1.zip             100%[===================>] 183.96M  7.36MB/s    in 31s     \n",
            "\n",
            "2021-04-23 02:07:37 (5.98 MB/s) - ‘db1.zip’ saved [192894514/192894514]\n",
            "\n",
            "--2021-04-23 02:07:37--  http://yuhang.rsise.anu.edu.au/download/db2.zip\n",
            "Resolving yuhang.rsise.anu.edu.au (yuhang.rsise.anu.edu.au)... 150.203.208.64\n",
            "Connecting to yuhang.rsise.anu.edu.au (yuhang.rsise.anu.edu.au)|150.203.208.64|:80... connected.\n",
            "HTTP request sent, awaiting response... 200 OK\n",
            "Length: 203405885 (194M) [application/zip]\n",
            "Saving to: ‘db2.zip’\n",
            "\n",
            "db2.zip             100%[===================>] 193.98M  7.55MB/s    in 32s     \n",
            "\n",
            "2021-04-23 02:08:11 (6.06 MB/s) - ‘db2.zip’ saved [203405885/203405885]\n",
            "\n",
            "--2021-04-23 02:08:11--  http://yuhang.rsise.anu.edu.au/download/db3.zip\n",
            "Resolving yuhang.rsise.anu.edu.au (yuhang.rsise.anu.edu.au)... 150.203.208.64\n",
            "Connecting to yuhang.rsise.anu.edu.au (yuhang.rsise.anu.edu.au)|150.203.208.64|:80... connected.\n",
            "HTTP request sent, awaiting response... 200 OK\n",
            "Length: 191650504 (183M) [application/zip]\n",
            "Saving to: ‘db3.zip’\n",
            "\n",
            "db3.zip             100%[===================>] 182.77M  4.04MB/s    in 41s     \n",
            "\n",
            "2021-04-23 02:08:53 (4.43 MB/s) - ‘db3.zip’ saved [191650504/191650504]\n",
            "\n",
            "--2021-04-23 02:08:53--  http://yuhang.rsise.anu.edu.au/download/db4.zip\n",
            "Resolving yuhang.rsise.anu.edu.au (yuhang.rsise.anu.edu.au)... 150.203.208.64\n",
            "Connecting to yuhang.rsise.anu.edu.au (yuhang.rsise.anu.edu.au)|150.203.208.64|:80... connected.\n",
            "HTTP request sent, awaiting response... 200 OK\n",
            "Length: 198834870 (190M) [application/zip]\n",
            "Saving to: ‘db4.zip’\n",
            "\n",
            "db4.zip             100%[===================>] 189.62M  4.43MB/s    in 49s     \n",
            "\n",
            "2021-04-23 02:09:43 (3.87 MB/s) - ‘db4.zip’ saved [198834870/198834870]\n",
            "\n",
            "--2021-04-23 02:09:43--  http://yuhang.rsise.anu.edu.au/download/db5.zip\n",
            "Resolving yuhang.rsise.anu.edu.au (yuhang.rsise.anu.edu.au)... 150.203.208.64\n",
            "Connecting to yuhang.rsise.anu.edu.au (yuhang.rsise.anu.edu.au)|150.203.208.64|:80... connected.\n",
            "HTTP request sent, awaiting response... 200 OK\n",
            "Length: 211086834 (201M) [application/zip]\n",
            "Saving to: ‘db5.zip’\n",
            "\n",
            "db5.zip             100%[===================>] 201.31M  2.96MB/s    in 44s     \n",
            "\n",
            "2021-04-23 02:10:28 (4.61 MB/s) - ‘db5.zip’ saved [211086834/211086834]\n",
            "\n",
            "--2021-04-23 02:10:28--  http://yuhang.rsise.anu.edu.au/download/db6.zip\n",
            "Resolving yuhang.rsise.anu.edu.au (yuhang.rsise.anu.edu.au)... 150.203.208.64\n",
            "Connecting to yuhang.rsise.anu.edu.au (yuhang.rsise.anu.edu.au)|150.203.208.64|:80... connected.\n",
            "HTTP request sent, awaiting response... 200 OK\n",
            "Length: 202286261 (193M) [application/zip]\n",
            "Saving to: ‘db6.zip’\n",
            "\n",
            "db6.zip             100%[===================>] 192.92M  4.23MB/s    in 54s     \n",
            "\n",
            "2021-04-23 02:11:24 (3.55 MB/s) - ‘db6.zip’ saved [202286261/202286261]\n",
            "\n",
            "--2021-04-23 02:11:24--  http://yuhang.rsise.anu.edu.au/download/db7.zip\n",
            "Resolving yuhang.rsise.anu.edu.au (yuhang.rsise.anu.edu.au)... 150.203.208.64\n",
            "Connecting to yuhang.rsise.anu.edu.au (yuhang.rsise.anu.edu.au)|150.203.208.64|:80... connected.\n",
            "HTTP request sent, awaiting response... 200 OK\n",
            "Length: 201984551 (193M) [application/zip]\n",
            "Saving to: ‘db7.zip’\n",
            "\n",
            "db7.zip             100%[===================>] 192.63M  4.08MB/s    in 57s     \n",
            "\n",
            "2021-04-23 02:12:22 (3.38 MB/s) - ‘db7.zip’ saved [201984551/201984551]\n",
            "\n",
            "--2021-04-23 02:12:22--  http://yuhang.rsise.anu.edu.au/download/db8.zip\n",
            "Resolving yuhang.rsise.anu.edu.au (yuhang.rsise.anu.edu.au)... 150.203.208.64\n",
            "Connecting to yuhang.rsise.anu.edu.au (yuhang.rsise.anu.edu.au)|150.203.208.64|:80... connected.\n",
            "HTTP request sent, awaiting response... 200 OK\n",
            "Length: 192634205 (184M) [application/zip]\n",
            "Saving to: ‘db8.zip’\n",
            "\n",
            "db8.zip             100%[===================>] 183.71M  3.94MB/s    in 53s     \n",
            "\n",
            "2021-04-23 02:13:16 (3.48 MB/s) - ‘db8.zip’ saved [192634205/192634205]\n",
            "\n",
            "--2021-04-23 02:13:16--  http://yuhang.rsise.anu.edu.au/download/db9.zip\n",
            "Resolving yuhang.rsise.anu.edu.au (yuhang.rsise.anu.edu.au)... 150.203.208.64\n",
            "Connecting to yuhang.rsise.anu.edu.au (yuhang.rsise.anu.edu.au)|150.203.208.64|:80... connected.\n",
            "HTTP request sent, awaiting response... 200 OK\n",
            "Length: 188868309 (180M) [application/zip]\n",
            "Saving to: ‘db9.zip’\n",
            "\n",
            "db9.zip             100%[===================>] 180.12M  4.02MB/s    in 56s     \n",
            "\n",
            "2021-04-23 02:14:14 (3.23 MB/s) - ‘db9.zip’ saved [188868309/188868309]\n",
            "\n",
            "--2021-04-23 02:14:14--  http://yuhang.rsise.anu.edu.au/download/db10.zip\n",
            "Resolving yuhang.rsise.anu.edu.au (yuhang.rsise.anu.edu.au)... 150.203.208.64\n",
            "Connecting to yuhang.rsise.anu.edu.au (yuhang.rsise.anu.edu.au)|150.203.208.64|:80... connected.\n",
            "HTTP request sent, awaiting response... 200 OK\n",
            "Length: 271019849 (258M) [application/zip]\n",
            "Saving to: ‘db10.zip’\n",
            "\n",
            "db10.zip             43%[=======>            ] 112.56M  3.81MB/s    eta 50s    "
          ],
          "name": "stdout"
        }
      ]
    },
    {
      "cell_type": "code",
      "metadata": {
        "id": "yF6rgiY62wAI"
      },
      "source": [
        "!wget https://raw.githubusercontent.com/ParallelDots/generic-sku-detection-benchmark/master/annotations/WebMarket/WebMarket_coco_gt_object.csv"
      ],
      "execution_count": null,
      "outputs": []
    },
    {
      "cell_type": "code",
      "metadata": {
        "id": "YGPf6My7Bm8V"
      },
      "source": [
        "!ls"
      ],
      "execution_count": null,
      "outputs": []
    },
    {
      "cell_type": "code",
      "metadata": {
        "id": "KxNbipTLBy3A"
      },
      "source": [
        "for link in list_links:\n",
        "  !unzip {link}"
      ],
      "execution_count": null,
      "outputs": []
    },
    {
      "cell_type": "code",
      "metadata": {
        "id": "W8uljfcuB2OK"
      },
      "source": [
        "for link in list_links:\n",
        "  !rm -r {link}"
      ],
      "execution_count": null,
      "outputs": []
    },
    {
      "cell_type": "code",
      "metadata": {
        "id": "52Y0xQ1mB_cV"
      },
      "source": [
        "!ls"
      ],
      "execution_count": null,
      "outputs": []
    },
    {
      "cell_type": "code",
      "metadata": {
        "id": "2knKm9LgCDqu"
      },
      "source": [
        "#Installing Detectron2 and dependencies"
      ],
      "execution_count": null,
      "outputs": []
    },
    {
      "cell_type": "code",
      "metadata": {
        "id": "uXPYxMUhZsNP"
      },
      "source": [
        "!pip install pyyaml==5.1"
      ],
      "execution_count": null,
      "outputs": []
    },
    {
      "cell_type": "code",
      "metadata": {
        "id": "tyijE3epZ0p8"
      },
      "source": [
        "!pip install pycocotools>=2.0.1"
      ],
      "execution_count": null,
      "outputs": []
    },
    {
      "cell_type": "code",
      "metadata": {
        "id": "7BvRA9jJIHU_"
      },
      "source": [
        "import torch, torchvision\n",
        "print(torch.__version__, torch.cuda.is_available())\n",
        "!gcc --version"
      ],
      "execution_count": null,
      "outputs": []
    },
    {
      "cell_type": "code",
      "metadata": {
        "id": "u6VLHw0gIKpH"
      },
      "source": [
        "!pip install detectron2 -f https://dl.fbaipublicfiles.com/detectron2/wheels/cu101/torch1.6/index.html"
      ],
      "execution_count": null,
      "outputs": []
    },
    {
      "cell_type": "code",
      "metadata": {
        "id": "MTg_HeDCIU8n"
      },
      "source": [
        "import torch, torchvision\n",
        "import detectron2\n",
        "from detectron2.utils.logger import setup_logger\n",
        "setup_logger()\n",
        "\n",
        "import glob\n",
        "from google.colab.patches import cv2_imshow\n",
        "import os\n",
        "import ntpath\n",
        "import numpy as np\n",
        "import cv2\n",
        "import random\n",
        "import itertools\n",
        "import pandas as pd\n",
        "from tqdm import tqdm\n",
        "import urllib\n",
        "import json\n",
        "import PIL.Image as Image\n",
        "import tensorboard\n",
        "\n",
        "from detectron2 import model_zoo\n",
        "from detectron2.engine import DefaultPredictor, DefaultTrainer\n",
        "from detectron2.config import get_cfg\n",
        "from detectron2.utils.visualizer import Visualizer, ColorMode\n",
        "from detectron2.data import DatasetCatalog, MetadataCatalog, build_detection_test_loader\n",
        "from detectron2.evaluation import COCOEvaluator, inference_on_dataset\n",
        "from detectron2.structures import BoxMode\n",
        "\n",
        "import seaborn as sns\n",
        "from pylab import rcParams\n",
        "import matplotlib.pyplot as plt\n",
        "from matplotlib import rc\n",
        "\n",
        "%matplotlib inline\n",
        "%config InlineBackend.figure_format='retina'\n",
        "\n",
        "sns.set(style='whitegrid', palette='muted', font_scale=1.2)\n",
        "\n",
        "HAPPY_COLORS_PALETTE = [\"#01BEFE\", \"#FFDD00\", \"#FF7D00\", \"#FF006D\", \"#ADFF02\", \"#8F00FF\"]\n",
        "\n",
        "sns.set_palette(sns.color_palette(HAPPY_COLORS_PALETTE))\n",
        "\n",
        "rcParams['figure.figsize'] = 12, 8\n"
      ],
      "execution_count": null,
      "outputs": []
    },
    {
      "cell_type": "code",
      "metadata": {
        "id": "RzqdXF4ejEAJ"
      },
      "source": [
        "folders = []\n",
        "for p in range(1, 11):\n",
        "  folders.append(f'db{p}')"
      ],
      "execution_count": null,
      "outputs": []
    },
    {
      "cell_type": "code",
      "metadata": {
        "id": "AC26haI5jD82"
      },
      "source": [
        "!ls"
      ],
      "execution_count": null,
      "outputs": []
    },
    {
      "cell_type": "code",
      "metadata": {
        "id": "DSMBCipjrt0S"
      },
      "source": [
        "!pip install detectron2 -f https://dl.fbaipublicfiles.com/detectron2/wheels/cu101/torch1.8/index.html"
      ],
      "execution_count": null,
      "outputs": []
    },
    {
      "cell_type": "code",
      "metadata": {
        "id": "HjnczqYGjD6s"
      },
      "source": [
        "annote = pd.read_csv('WebMarket_coco_gt_object.csv')"
      ],
      "execution_count": null,
      "outputs": []
    },
    {
      "cell_type": "code",
      "metadata": {
        "id": "Rg0JfPtSjD4Q"
      },
      "source": [
        "annote.head()"
      ],
      "execution_count": null,
      "outputs": []
    },
    {
      "cell_type": "code",
      "metadata": {
        "id": "MeBQyc-ZjD1m"
      },
      "source": [
        "annote.info()"
      ],
      "execution_count": null,
      "outputs": []
    },
    {
      "cell_type": "markdown",
      "metadata": {
        "id": "fpoDkOXtjXNn"
      },
      "source": [
        "# **Preparing datasets**"
      ]
    },
    {
      "cell_type": "code",
      "metadata": {
        "id": "ieQPez1cjDzo"
      },
      "source": [
        "dataset = pd.DataFrame()\n",
        "for dir in list_links:\n",
        "  dir_name = dir.split('.')[0]\n",
        "  for img_name in os.listdir(dir_name):\n",
        "    temp_df = annote[annote['image_name'] == img_name]\n",
        "    temp_df['file_path'] = os.path.join(dir_name, img_name)\n",
        "    dataset = pd.concat([dataset, temp_df])"
      ],
      "execution_count": null,
      "outputs": []
    },
    {
      "cell_type": "code",
      "metadata": {
        "id": "LNIYd-AAjDxx"
      },
      "source": [
        "dataset.head()"
      ],
      "execution_count": null,
      "outputs": []
    },
    {
      "cell_type": "code",
      "metadata": {
        "id": "eP7gYtn9jDvx"
      },
      "source": [
        "dataset.info()"
      ],
      "execution_count": null,
      "outputs": []
    },
    {
      "cell_type": "code",
      "metadata": {
        "id": "ZLs4crLTjDrn"
      },
      "source": [
        "os.makedirs('objects', exist_ok = True)"
      ],
      "execution_count": null,
      "outputs": []
    },
    {
      "cell_type": "code",
      "metadata": {
        "id": "xlm-Id1RjDn9"
      },
      "source": [
        "unique_img = dataset.image_name.unique()"
      ],
      "execution_count": null,
      "outputs": []
    },
    {
      "cell_type": "code",
      "metadata": {
        "id": "JrZTAA49jDmH"
      },
      "source": [
        "dataset = dataset.rename(columns=  {'class' : 'class_name'})"
      ],
      "execution_count": null,
      "outputs": []
    },
    {
      "cell_type": "code",
      "metadata": {
        "id": "q5ufLDatjDTk"
      },
      "source": [
        "train_files = set(np.random.choice(unique_img, int(len(unique_img) * 0.90), replace=False))\n",
        "train_df = dataset[dataset.image_name.isin(train_files)]\n",
        "test_df = dataset[~dataset.image_name.isin(train_files)]"
      ],
      "execution_count": null,
      "outputs": []
    },
    {
      "cell_type": "code",
      "metadata": {
        "id": "L3AD6vrgjDP0"
      },
      "source": [
        "train_df.info()"
      ],
      "execution_count": null,
      "outputs": []
    },
    {
      "cell_type": "code",
      "metadata": {
        "id": "fMxzFrCujDOC"
      },
      "source": [
        "test_df.info()"
      ],
      "execution_count": null,
      "outputs": []
    },
    {
      "cell_type": "code",
      "metadata": {
        "id": "BP723ouBjDMA"
      },
      "source": [
        "classes = dataset.class_name.unique().tolist()"
      ],
      "execution_count": null,
      "outputs": []
    },
    {
      "cell_type": "code",
      "metadata": {
        "id": "DxQhjQXZjDJq"
      },
      "source": [
        "def create_dataset_dicts(df, classes):\n",
        "  dataset_dicts = []\n",
        "  for image_id, img_name in enumerate(df.image_name.unique()):\n",
        "\n",
        "    record = {}\n",
        "\n",
        "    image_df = df[df.image_name == img_name]\n",
        "\n",
        "    record[\"file_name\"] = image_df.file_path.values[0]\n",
        "    record[\"image_id\"] = image_id\n",
        "    record[\"height\"], record[\"width\"] = cv2.imread(image_df.file_path.values[0]).shape[:2]\n",
        "\n",
        "    objs = []\n",
        "    for _, row in image_df.iterrows():\n",
        "\n",
        "      x1 = int(row.x1)\n",
        "      y1 = int(row.y1)\n",
        "      x2 = int(row.x2)\n",
        "      y2 = int(row.y2)\n",
        "\n",
        "      poly = [\n",
        "          (x1, y1), (x2, y1), \n",
        "          (x2, y2), (x1, y2)\n",
        "      ]\n",
        "      poly = list(itertools.chain.from_iterable(poly))\n",
        "\n",
        "      obj = {\n",
        "        \"bbox\": [x1, y1, x2, y2],\n",
        "        \"bbox_mode\": BoxMode.XYXY_ABS,\n",
        "        \"segmentation\": [poly],\n",
        "        \"category_id\": classes.index(row.class_name),\n",
        "      }\n",
        "      objs.append(obj)\n",
        "\n",
        "    record[\"annotations\"] = objs\n",
        "    dataset_dicts.append(record)\n",
        "  return dataset_dicts"
      ],
      "execution_count": null,
      "outputs": []
    },
    {
      "cell_type": "code",
      "metadata": {
        "id": "L5mC1JZnkHqd"
      },
      "source": [
        "for d in [\"train\", \"val\"]:\n",
        "  DatasetCatalog.register(\"objects_\" + d, lambda d=d: create_dataset_dicts(train_df if d == \"train\" else test_df, classes))\n",
        "  MetadataCatalog.get(\"objects_\" + d).set(thing_classes=classes)\n",
        "\n",
        "statement_metadata = MetadataCatalog.get(\"objects_train\")"
      ],
      "execution_count": null,
      "outputs": []
    },
    {
      "cell_type": "markdown",
      "metadata": {
        "id": "ufNe1xGJkYyy"
      },
      "source": [
        "# **Visualizing training dataset¶**"
      ]
    },
    {
      "cell_type": "code",
      "metadata": {
        "id": "cvZ18p2okHmE"
      },
      "source": [
        "dataset_dicts = create_dataset_dicts(train_df[:300], classes)\n",
        "for d in random.sample(dataset_dicts, 3):\n",
        "    img = cv2.imread(d[\"file_name\"])\n",
        "    visualizer = Visualizer(img[:, :, ::-1], metadata=statement_metadata, scale=0.5)\n",
        "    out = visualizer.draw_dataset_dict(d)\n",
        "    cv2_imshow(out.get_image()[:, :, ::-1])"
      ],
      "execution_count": null,
      "outputs": []
    },
    {
      "cell_type": "code",
      "metadata": {
        "id": "2G_7tcBRkHj8"
      },
      "source": [
        "class CocoTrainer(DefaultTrainer):\n",
        "  \n",
        "  @classmethod\n",
        "  def build_evaluator(cls, cfg, dataset_name, output_folder=None):\n",
        "\n",
        "    if output_folder is None:\n",
        "        os.makedirs(\"coco_eval\", exist_ok=True)\n",
        "        output_folder = \"coco_eval\"\n",
        "\n",
        "    return COCOEvaluator(dataset_name, cfg, False, output_folder)"
      ],
      "execution_count": null,
      "outputs": []
    },
    {
      "cell_type": "markdown",
      "metadata": {
        "id": "5Dpsqjgakk7b"
      },
      "source": [
        "# **Model building and Training**"
      ]
    },
    {
      "cell_type": "code",
      "metadata": {
        "id": "KZkqdgrPkHhW"
      },
      "source": [
        "from detectron2.engine import DefaultTrainer\n",
        "\n",
        "cfg = get_cfg()\n",
        "cfg.merge_from_file(model_zoo.get_config_file(\"COCO-InstanceSegmentation/mask_rcnn_X_101_32x8d_FPN_3x.yaml\"))\n",
        "cfg.DATASETS.TRAIN = (\"objects_train\",)\n",
        "cfg.DATASETS.TEST = (\"objects_val\",)\n",
        "cfg.DATALOADER.NUM_WORKERS = 4\n",
        "cfg.MODEL.WEIGHTS = model_zoo.get_checkpoint_url(\"COCO-InstanceSegmentation/mask_rcnn_X_101_32x8d_FPN_3x.yaml\")  \n",
        "cfg.SOLVER.IMS_PER_BATCH = 2\n",
        "cfg.SOLVER.BASE_LR = 0.001 \n",
        "cfg.SOLVER.WARMUP_ITERS = 1000\n",
        "cfg.SOLVER.MAX_ITER = 2000   \n",
        "cfg.SOLVER.STEPS = (1000, 1500)\n",
        "cfg.SOLVER.GAMMA = 0.05\n",
        "\n",
        "cfg.MODEL.ROI_HEADS.BATCH_SIZE_PER_IMAGE = 128  \n",
        "cfg.MODEL.ROI_HEADS.NUM_CLASSES = 1  \n",
        "cfg.TEST.EVAL_PERIOD = 500\n",
        "os.makedirs(cfg.OUTPUT_DIR, exist_ok=True)\n",
        "trainer = CocoTrainer(cfg) \n",
        "trainer.resume_or_load(resume=False)\n",
        "trainer.train()"
      ],
      "execution_count": null,
      "outputs": []
    },
    {
      "cell_type": "code",
      "metadata": {
        "id": "odsTdc0NkHfq"
      },
      "source": [
        "%load_ext tensorboard\n",
        "%tensorboard --logdir output"
      ],
      "execution_count": null,
      "outputs": []
    },
    {
      "cell_type": "markdown",
      "metadata": {
        "id": "CCtnYJ9kkx2_"
      },
      "source": [
        "# **Predicting on Test dataset.**"
      ]
    },
    {
      "cell_type": "code",
      "metadata": {
        "id": "eahS_MSGkHd0"
      },
      "source": [
        "cfg.MODEL.WEIGHTS = os.path.join(cfg.OUTPUT_DIR, \"model_final.pth\")  # path to the model we just trained\n",
        "cfg.MODEL.ROI_HEADS.SCORE_THRESH_TEST = 0.8   # set a custom testing threshold\n",
        "predictor = DefaultPredictor(cfg)"
      ],
      "execution_count": null,
      "outputs": []
    },
    {
      "cell_type": "markdown",
      "metadata": {
        "id": "VivtrYzpk9AJ"
      },
      "source": [
        "# **Visualizing Test results.**"
      ]
    },
    {
      "cell_type": "code",
      "metadata": {
        "id": "bQ0rVG3tkHba"
      },
      "source": [
        "from detectron2.utils.visualizer import ColorMode\n",
        "dataset_dicts = create_dataset_dicts(test_df, classes)\n",
        "for d in random.sample(dataset_dicts, 10):    \n",
        "    im = cv2.imread(d[\"file_name\"])\n",
        "    outputs = predictor(im)  \n",
        "    v = Visualizer(im[:, :, ::-1],\n",
        "                   metadata=statement_metadata, \n",
        "                   scale=0.5, \n",
        "                   instance_mode=ColorMode.IMAGE_BW   \n",
        "    )\n",
        "    out = v.draw_instance_predictions(outputs[\"instances\"].to(\"cpu\"))\n",
        "    cv2_imshow(out.get_image()[:, :, ::-1])"
      ],
      "execution_count": null,
      "outputs": []
    },
    {
      "cell_type": "markdown",
      "metadata": {
        "id": "GmKaAxAdlKfC"
      },
      "source": [
        "# **Inference on test set and storing the result**"
      ]
    },
    {
      "cell_type": "code",
      "metadata": {
        "id": "QEM-lrQclEWm"
      },
      "source": [
        "evaluator = COCOEvaluator(\"objects_val\", cfg, False, output_dir=\"./output/\")\n",
        "val_loader = build_detection_test_loader(cfg, \"objects_val\")\n",
        "inference_on_dataset(trainer.model, val_loader, evaluator)"
      ],
      "execution_count": null,
      "outputs": []
    },
    {
      "cell_type": "code",
      "metadata": {
        "id": "JIPoiBwqlER9"
      },
      "source": [
        "os.makedirs(\"annotated_results\", exist_ok=True)\n",
        "test_image_paths = test_df.file_path.unique()"
      ],
      "execution_count": null,
      "outputs": []
    },
    {
      "cell_type": "code",
      "metadata": {
        "id": "cEKyzrhFlEQM"
      },
      "source": [
        "for test_image in test_image_paths:\n",
        "  im = cv2.imread(test_image)\n",
        "  outputs = predictor(im)\n",
        "  v = Visualizer(\n",
        "    im[:, :, ::-1],\n",
        "    metadata=statement_metadata, \n",
        "    scale=0.5, \n",
        "    instance_mode=ColorMode.IMAGE_BW\n",
        "  )\n",
        "  instances = outputs[\"instances\"].to(\"cpu\")\n",
        "  v = v.draw_instance_predictions(instances)\n",
        "  result = v.get_image()[:, :, ::-1]\n",
        "  file_name = ntpath.basename(test_image)\n",
        "  write_res = cv2.imwrite(f'annotated_results/{file_name}', result)"
      ],
      "execution_count": null,
      "outputs": []
    },
    {
      "cell_type": "code",
      "metadata": {
        "id": "Pjaz6_XelEOb"
      },
      "source": [
        "!ls annotated_results"
      ],
      "execution_count": null,
      "outputs": []
    },
    {
      "cell_type": "code",
      "metadata": {
        "id": "Nn4RV7ESlD6Y"
      },
      "source": [
        "annotated_images = [f'annotated_results/{f}' for f in test_df.image_name.unique()]"
      ],
      "execution_count": null,
      "outputs": []
    },
    {
      "cell_type": "code",
      "metadata": {
        "id": "rgUnwLr6lD2y"
      },
      "source": [
        "img = cv2.imread(annotated_images[67])\n",
        "\n",
        "plt.imshow(img)\n",
        "plt.axis('off');"
      ],
      "execution_count": null,
      "outputs": []
    },
    {
      "cell_type": "code",
      "metadata": {
        "id": "7MXI2TXnlD0c"
      },
      "source": [
        "random_sample = random.sample(annotated_images, 1)\n",
        "img = cv2.imread(random_sample[0])\n",
        "\n",
        "plt.imshow(img)\n",
        "plt.axis('off');"
      ],
      "execution_count": null,
      "outputs": []
    },
    {
      "cell_type": "code",
      "metadata": {
        "id": "fzQGWFd0lDyw"
      },
      "source": [
        ""
      ],
      "execution_count": null,
      "outputs": []
    },
    {
      "cell_type": "code",
      "metadata": {
        "id": "1gHFOGiHlDwc"
      },
      "source": [
        "# is there any more code to paste?\n",
        "# No anna \n",
        "# ok, \n",
        "# let's do a full run then \n",
        "# oka"
      ],
      "execution_count": null,
      "outputs": []
    },
    {
      "cell_type": "code",
      "metadata": {
        "id": "mTsiwp0IlDuE"
      },
      "source": [
        ""
      ],
      "execution_count": null,
      "outputs": []
    },
    {
      "cell_type": "code",
      "metadata": {
        "id": "D9Av8RwrlDrR"
      },
      "source": [
        ""
      ],
      "execution_count": null,
      "outputs": []
    },
    {
      "cell_type": "code",
      "metadata": {
        "id": "q-4f3SlKlDpJ"
      },
      "source": [
        ""
      ],
      "execution_count": null,
      "outputs": []
    },
    {
      "cell_type": "code",
      "metadata": {
        "id": "dqO4wmQylDm7"
      },
      "source": [
        ""
      ],
      "execution_count": null,
      "outputs": []
    }
  ]
}